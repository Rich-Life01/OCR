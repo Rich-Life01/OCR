{
 "cells": [
  {
   "cell_type": "code",
   "execution_count": 5,
   "id": "dac328aa-ea3f-4e96-a1e6-c52aff589c64",
   "metadata": {
    "tags": []
   },
   "outputs": [
    {
     "name": "stdout",
     "output_type": "stream",
     "text": [
      "PARAM ENGINEERING COMPANY LIMITED\n",
      "\n",
      "145, RAM VILLA NEW MUMBAI, SHIVAJI ROAD, MUMBAI - 400 020\n",
      "TEL '022-457812 FAX: 4086 / 4086 Email\n",
      "\n",
      "Sundaram_p25@gmail.com\n",
      "\n",
      "PAYMENT INSTRUCTION:\n",
      "Pis deposit the payment ofthis bill WITH KOTAK BANK AC NO.\n",
      "09672000003134 OR STANDARD CHARTERED BANK AIC NO.\n",
      "22505650829. Pls forward copy of Deposit Slip for reference,\n",
      "\n",
      "ABC International Pvt Ltd\n",
      "45/46, Karan Compound Invoice No: TesttVch Date: 1-Apr-2007\n",
      "Mayaidas Ram Road\n",
      "Near Bank of India\n",
      "Mumbai 400002 DN.No Dote : 1-Apr-2007\n",
      "Payment Terms. Due Date: 1-May2007\n",
      "Refeode — : Customer Code\n",
      "Description ‘Quantity Meters | Rate Per Meters | Per ‘Amount\n",
      "FABRICS 4.00 Nos| 10.09] Nos 40.09]\n",
      "Finish Fabrics 180,00 Nos| 200.00 Nos 30,000.09]\n",
      "‘Sub Totals 154.00 Nos| 30,040.09\n",
      "Excise 14)% 4,205 60\n",
      "Edu Cess 2|% 84.11\n",
      "SHE CESS 1}% oed\n",
      "Output VAT 4%6| 4}% 1,201 68]\n",
      "Courie 180.00\n",
      "Rupees —_: Thirty Five Thousand Six Hundred Eighty Two and Fifteen paise Only. 35,682.15]\n",
      "TMNASTNo, : 789456123 Terms and Conditions:\n",
      "TRUCSTNe. : 720456123 ¢ 1 Our responsibilty ceases as soon as the goods are delivery\n",
      "\n",
      "from our permises.\n",
      "2 Goods onces sold will be not be taken back\n",
      "\n",
      "3 Interest @ 18% p.a, willbe charged for nayment after due date\n",
      "4 Terms & Conditions overleat.\n",
      "\n",
      "5 we are not responsible for any shortage.\n",
      "\n",
      "For PARAM ENGINEERING COMPANY LIMITED|\n",
      "\n",
      "E&OE.\n",
      "\n",
      "REGD.OFFICE:306, Partik House, 39-X, New Marin Lines, Mumbai 400 020, Ph 022-25689 Fax- 022 254123\n",
      "\n"
     ]
    }
   ],
   "source": [
    "from PIL import Image\n",
    "\n",
    "import pytesseract as tess\n",
    "tess.pytesseract.tesseract_cmd = r'C:\\Program Files\\Tesseract-OCR\\tesseract.exe'\n",
    "\n",
    "\n",
    "image = Image.open('Image.jpg')\n",
    "text = tess.image_to_string(image)\n",
    "#text = tess.image_to_string(image, lang='eng', config='--psm 6')\n",
    "\n",
    "print(text)\n",
    "\n"
   ]
  },
  {
   "cell_type": "code",
   "execution_count": null,
   "id": "ecf8e65f-7c94-4484-8007-4a1279717d8e",
   "metadata": {},
   "outputs": [],
   "source": []
  },
  {
   "cell_type": "code",
   "execution_count": null,
   "id": "26d7283e-5f75-4e80-852d-58e40fc07139",
   "metadata": {},
   "outputs": [],
   "source": []
  },
  {
   "cell_type": "code",
   "execution_count": null,
   "id": "962f1dc5-8fc1-43ed-b7e2-4d7d6f969bff",
   "metadata": {},
   "outputs": [],
   "source": []
  }
 ],
 "metadata": {
  "kernelspec": {
   "display_name": "Python 3 (ipykernel)",
   "language": "python",
   "name": "python3"
  },
  "language_info": {
   "codemirror_mode": {
    "name": "ipython",
    "version": 3
   },
   "file_extension": ".py",
   "mimetype": "text/x-python",
   "name": "python",
   "nbconvert_exporter": "python",
   "pygments_lexer": "ipython3",
   "version": "3.11.5"
  }
 },
 "nbformat": 4,
 "nbformat_minor": 5
}
